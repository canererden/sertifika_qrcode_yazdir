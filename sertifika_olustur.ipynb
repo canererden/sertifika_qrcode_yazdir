{
 "cells": [
  {
   "cell_type": "code",
   "execution_count": null,
   "metadata": {},
   "outputs": [],
   "source": [
    "# paketler\n",
    "from reportlab.pdfgen import canvas\n",
    "from reportlab.lib.units import inch, cm\n",
    "from reportlab.pdfbase import pdfmetrics\n",
    "from reportlab.pdfbase.ttfonts import TTFont\n",
    "from reportlab.pdfbase.pdfmetrics import stringWidth\n",
    "\n",
    "from pandas import read_excel\n",
    "from PyPDF2 import PdfFileWriter, PdfFileReader\n",
    "\n",
    "import copy\n",
    "import io"
   ]
  },
  {
   "cell_type": "code",
   "execution_count": null,
   "metadata": {},
   "outputs": [],
   "source": [
    "# fontları yükle\n",
    "pdfmetrics.registerFont(TTFont('Montserrat-Bold',\"fonts\\\\Montserrat-Bold.ttf\"))\n",
    "pdfmetrics.registerFont(TTFont('Montserrat-Regular',\"fonts\\\\Montserrat-Regular.ttf\"))\n",
    "pdfmetrics.registerFont(TTFont('Montserrat-Light',\"fonts\\\\Montserrat-Light.ttf\"))\n",
    "pdfmetrics.registerFont(TTFont('Montserrat-LightItalic',\"fonts\\\\Montserrat-LightItalic.ttf\"))\n",
    "pdfmetrics.registerFont(TTFont('Montserrat-Black',\"fonts\\\\Montserrat-Black.ttf\"))\n",
    "pdfmetrics.registerFont(TTFont('NeueBold',\"fonts\\\\NeueBold.ttf\"))\n",
    "pdfmetrics.registerFont(TTFont('HelveticaNeueLight',\"fonts\\\\HelveticaNeueLight.ttf\"))\n",
    "pdfmetrics.registerFont(TTFont('HelveticaNeueLightItalic',\"fonts\\\\HelveticaNeueLightItalic.ttf\"))"
   ]
  },
  {
   "cell_type": "code",
   "execution_count": null,
   "metadata": {},
   "outputs": [],
   "source": [
    "# dosyayı al.\n",
    "katilimci_listesi = read_excel('yaka_karti_listesi.xlsx',sheet_name=\"yaka_kartlari\")\n",
    "katilimci_listesi"
   ]
  },
  {
   "cell_type": "code",
   "execution_count": null,
   "metadata": {},
   "outputs": [],
   "source": [
    "symposium = \"IMSS'19\"\n",
    "line1 = \"In recognition of a substantial contribution to the \"\n",
    "line2 = \"through participation as \"\n",
    "\n",
    "packet = io.BytesIO()\n",
    "\n",
    "kart_boyutu = (11.69*inch, 8.27*inch)\n",
    "kanvas = canvas.Canvas(packet, pagesize=kart_boyutu)\n",
    "\n",
    "for index, row in katilimci_listesi.iterrows():\n",
    "    x = 0.85*inch\n",
    "    y = 3.30*inch\n",
    "    isim, katilimci_tipi = row['Name'], row['Type']\n",
    "    \n",
    "    # ismi yazdır\n",
    "    kanvas.setFont(\"Montserrat-Bold\", 20)\n",
    "    kanvas.drawString(0.85*inch, 3.8*inch, isim)\n",
    "    \n",
    "    # line1 yazdır\n",
    "    kanvas.setFont('Montserrat-Light',16)\n",
    "    kanvas.drawString(x,y,line1)\n",
    "    \n",
    "    # sempozyum adını yazdır\n",
    "    textWidth = stringWidth(line1, 'Montserrat-Light', 16)\n",
    "    x += textWidth + 1\n",
    "    kanvas.setFont(\"Montserrat-Bold\", 16)\n",
    "    kanvas.drawString(x,y,symposium)\n",
    "    \n",
    "    # line2 yazdır\n",
    "    y-=0.3*inch\n",
    "    x = 0.85*inch\n",
    "    kanvas.setFont('Montserrat-Light',16)\n",
    "    kanvas.drawString(x,y,line2)\n",
    "    \n",
    "    # katilimci tipini yazdır\n",
    "    textWidth = stringWidth(line2, 'Montserrat-Light', 16)\n",
    "    x += textWidth + 1\n",
    "    kanvas.setFont(\"Montserrat-Bold\", 16)\n",
    "    kanvas.drawString(x,y,katilimci_tipi+\".\")\n",
    "\n",
    "    # sayfayı bitir\n",
    "    kanvas.showPage()\n",
    "\n",
    "kanvas.save()"
   ]
  },
  {
   "cell_type": "code",
   "execution_count": null,
   "metadata": {},
   "outputs": [],
   "source": [
    "# sayfanın başına gel\n",
    "packet.seek(0)\n",
    "\n",
    "# az önce oluşturduğumuz pdfyi kaydet\n",
    "canvas_pdf = PdfFileReader(packet)\n",
    "# boş sertifika pdfyi al\n",
    "bos_sertifika = PdfFileReader(open(\"bos_sertifika.pdf\", \"rb\"))\n",
    "\n",
    "# birleştirilecek pdf yi hazırla\n",
    "output = PdfFileWriter()\n",
    "\n",
    "# canvas pdf'deki herbir yazıyı boş pdf ile birleştir ve yeni pdf yi kaydet\n",
    "for i in range(0,canvas_pdf.getNumPages()):\n",
    "    page = copy.copy(bos_sertifika.getPage(0))\n",
    "    page.mergePage(canvas_pdf.getPage(i))\n",
    "    output.addPage(page)\n",
    "    print(\"{}. sertifika oluşturuldu.\".format(i))\n",
    "    \n",
    "with open(\"sertifikalar.pdf\", \"wb\") as outfile:\n",
    "    output.write(outfile)\n"
   ]
  },
  {
   "cell_type": "code",
   "execution_count": null,
   "metadata": {},
   "outputs": [],
   "source": []
  }
 ],
 "metadata": {
  "kernelspec": {
   "display_name": "Python 3",
   "language": "python",
   "name": "python3"
  },
  "language_info": {
   "codemirror_mode": {
    "name": "ipython",
    "version": 3
   },
   "file_extension": ".py",
   "mimetype": "text/x-python",
   "name": "python",
   "nbconvert_exporter": "python",
   "pygments_lexer": "ipython3",
   "version": "3.7.3"
  },
  "toc": {
   "base_numbering": 1,
   "nav_menu": {},
   "number_sections": true,
   "sideBar": true,
   "skip_h1_title": false,
   "title_cell": "Table of Contents",
   "title_sidebar": "Contents",
   "toc_cell": false,
   "toc_position": {},
   "toc_section_display": true,
   "toc_window_display": false
  }
 },
 "nbformat": 4,
 "nbformat_minor": 2
}
