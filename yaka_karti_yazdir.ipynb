{
 "cells": [
  {
   "cell_type": "code",
   "execution_count": null,
   "metadata": {},
   "outputs": [],
   "source": [
    "# Paketleri yükle\n",
    "from reportlab.pdfgen import canvas\n",
    "from reportlab.lib.units import inch, cm\n",
    "from reportlab.lib import colors\n",
    "from reportlab.graphics.shapes import *\n",
    "import pandas as pd\n",
    "import copy\n",
    "from PyPDF2 import PdfFileWriter, PdfFileReader\n",
    "import io\n",
    "from reportlab.pdfbase import pdfmetrics\n",
    "from reportlab.pdfbase.ttfonts import TTFont\n",
    "import png\n",
    "import qrcode\n",
    "from PIL import Image\n",
    "import qrcode.image.pil\n",
    "\n",
    "pdfmetrics.registerFont(TTFont('Montserrat-Bold',\"fonts\\\\Montserrat-Bold.ttf\"))\n",
    "pdfmetrics.registerFont(TTFont('Montserrat-Regular',\"fonts\\\\Montserrat-Regular.ttf\"))\n",
    "pdfmetrics.registerFont(TTFont('Montserrat-Light',\"fonts\\\\Montserrat-Light.ttf\"))\n",
    "pdfmetrics.registerFont(TTFont('Montserrat-LightItalic',\"fonts\\\\Montserrat-LightItalic.ttf\"))\n",
    "pdfmetrics.registerFont(TTFont('Montserrat-Black',\"fonts\\\\Montserrat-Black.ttf\"))\n",
    "\n",
    "\n",
    "# Excel dosyasını al\n",
    "katilimci_listesi = pd.read_excel('yaka_karti_listesi.xlsx', sheet_name='yaka_kartlari')"
   ]
  },
  {
   "cell_type": "code",
   "execution_count": null,
   "metadata": {},
   "outputs": [],
   "source": [
    "katilimci_listesi"
   ]
  },
  {
   "cell_type": "code",
   "execution_count": null,
   "metadata": {},
   "outputs": [],
   "source": [
    "# PDF ayarla\n",
    "packet = io.BytesIO()\n",
    "\n",
    "kart_boyutu = (3.54, 5.31)\n",
    "kanvas = canvas.Canvas(packet, pagesize=kart_boyutu)\n",
    "\n",
    "for index, row in katilimci_listesi.iterrows():\n",
    "    no, title, isim, uni, katilimci_tipi = row['No'], row['Title'],row['Name'],row['Affiliation'],row['Type']\n",
    "    print(no, title, isim, uni, katilimci_tipi)\n",
    "    \n",
    "    \n",
    "    \n",
    "    # QR Code Kısmı\n",
    "    \n",
    "    qr = qrcode.QRCode(version=1, box_size=1.5, border=2)\n",
    "    qr.add_data(\"{} {} {} {} {}\".format(no, title, isim, uni, katilimci_tipi))\n",
    "    qr.make(fit=True)\n",
    "    img = qr.make_image(image_factory= qrcode.image.pil.PilImage, fill_color='black', back_color='white')\n",
    "    img = img.resize((64,64), Image.ANTIALIAS)\n",
    "    img.save('qrcode{}.png'.format(no))\n",
    "    kanvas.drawImage('qrcode{}.png'.format(no),1.3*inch,1.3*inch)\n",
    "    kanvas.showPage()\n",
    "\n",
    "kanvas.save()\n",
    "\n",
    "# PDF'yi kaydet\n",
    "packet.seek(0)\n",
    "canvas_pdf = PdfFileReader(packet)\n",
    "bos_yaka_karti = PdfFileReader(open(\"bos_yaka_karti.pdf\",'rb'))\n",
    "\n",
    "output = PdfFileWriter()\n",
    "\n",
    "for i in range(canvas_pdf.getNumPages()):\n",
    "    page = copy.copy(bos_yaka_karti.getPage(0))\n",
    "    page.mergePage(canvas_pdf.getPage(i))\n",
    "    output.addPage(page)\n",
    "    print(\"{}. yaka kartı oluşturuldu.\".format(i))\n",
    "\n",
    "with open(\"yaka_kartlari.pdf\",\"wb\") as outfile:\n",
    "    output.write(outfile)\n"
   ]
  }
 ],
 "metadata": {
  "kernelspec": {
   "display_name": "Python 3",
   "language": "python",
   "name": "python3"
  },
  "language_info": {
   "codemirror_mode": {
    "name": "ipython",
    "version": 3
   },
   "file_extension": ".py",
   "mimetype": "text/x-python",
   "name": "python",
   "nbconvert_exporter": "python",
   "pygments_lexer": "ipython3",
   "version": "3.7.3"
  },
  "toc": {
   "base_numbering": 1,
   "nav_menu": {},
   "number_sections": true,
   "sideBar": true,
   "skip_h1_title": false,
   "title_cell": "Table of Contents",
   "title_sidebar": "Contents",
   "toc_cell": false,
   "toc_position": {},
   "toc_section_display": true,
   "toc_window_display": false
  }
 },
 "nbformat": 4,
 "nbformat_minor": 2
}
